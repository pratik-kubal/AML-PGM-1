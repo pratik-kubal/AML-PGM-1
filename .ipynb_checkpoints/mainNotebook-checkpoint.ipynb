{
 "cells": [
  {
   "cell_type": "code",
   "execution_count": 1,
   "metadata": {},
   "outputs": [],
   "source": [
    "# Imports\n",
    "from pgmpy.factors.discrete import TabularCPD\n",
    "import numpy as np\n",
    "from pgmpy.models import BayesianModel\n"
   ]
  },
  {
   "cell_type": "code",
   "execution_count": 2,
   "metadata": {},
   "outputs": [],
   "source": [
    "# Defining the Network\n",
    "edges_list = [\n",
    "    [('x1','x2'),\n",
    "    ('x1','x4'),\n",
    "    ('x1','x6')],\n",
    "    [('x2','x3'),\n",
    "    ('x2','x5')],\n",
    "    [('x3','x2'),\n",
    "    ('x3','x5'),\n",
    "    ('x3','x6')]\n",
    "]\n",
    "\n",
    "nodes_list = [\n",
    "    {\n",
    "        'x1':{\n",
    "            'States': {\n",
    "                '0':{},\n",
    "                '1':{},\n",
    "                '2':{},\n",
    "                '3':{}\n",
    "            }\n",
    "        },\n",
    "        'x2':{\n",
    "        'States':{\n",
    "            '0':{},\n",
    "            '1':{},\n",
    "            '2':{},\n",
    "            '3':{},\n",
    "            '4':{}\n",
    "        }\n",
    "        },\n",
    "        'x4':{\n",
    "        'States':{\n",
    "            '0':{},\n",
    "            '1':{},\n",
    "            '2':{},\n",
    "            '3':{}\n",
    "        }\n",
    "        },\n",
    "        'x6':{\n",
    "        'States':{\n",
    "            '0':{},\n",
    "            '1':{},\n",
    "            '2':{},\n",
    "            '3':{},\n",
    "            '4':{}\n",
    "        }\n",
    "        }\n",
    "    },\n",
    "    {\n",
    "        'x2':{\n",
    "        'States':{\n",
    "            '0':{},\n",
    "            '1':{},\n",
    "            '2':{},\n",
    "            '3':{},\n",
    "            '4':{}\n",
    "        }\n",
    "        },\n",
    "        'x3':{\n",
    "        'States':{\n",
    "            '0':{},\n",
    "            '1':{},\n",
    "            '2':{}\n",
    "        }\n",
    "        },\n",
    "        'x5':{\n",
    "        'States':{\n",
    "            '0':{},\n",
    "            '1':{},\n",
    "            '2':{},\n",
    "            '3':{}\n",
    "        }\n",
    "        }\n",
    "    },\n",
    "    {\n",
    "        'x2':{\n",
    "        'States':{\n",
    "            '0':{},\n",
    "            '1':{},\n",
    "            '2':{},\n",
    "            '3':{},\n",
    "            '4':{}\n",
    "        }\n",
    "        },\n",
    "        'x3':{\n",
    "        'States':{\n",
    "            '0':{},\n",
    "            '1':{},\n",
    "            '2':{}\n",
    "        }\n",
    "        },\n",
    "        'x5':{\n",
    "        'States':{\n",
    "            '0':{},\n",
    "            '1':{},\n",
    "            '2':{},\n",
    "            '3':{}\n",
    "        }\n",
    "        },\n",
    "        'x6':{\n",
    "        'States':{\n",
    "            '0':{},\n",
    "            '1':{},\n",
    "            '2':{},\n",
    "            '3':{},\n",
    "            '4':{}\n",
    "        }\n",
    "        }\n",
    "    }\n",
    "]\n",
    "\n",
    "cpds_list = [\n",
    "    [\n",
    "        {\n",
    "        #Given x2 given x1\n",
    "        'Values': np.array([[23.1,66.6,45.5,40],\n",
    "                           [36.5,0,9.1,20],\n",
    "                           [2.6,0,0,3.3],\n",
    "                           [17.3,0,18.2,16.7],\n",
    "                           [20.5,33.3,27.3,20]]),\n",
    "        'Variables':{'x2':['x1']}\n",
    "        },\n",
    "        {\n",
    "        'Values': np.array([[73.7,100,72.7,56.7],\n",
    "                           [7.7,0,27.3,20],\n",
    "                           [1.3,0,0,0],\n",
    "                           [17.3,0,0,23.3]]),\n",
    "        'Variables':{'x4':['x1']}\n",
    "        },\n",
    "        {\n",
    "        'Values': np.array([[1.9,0,0,0],\n",
    "                            [28.2,66.6,54.5,40],\n",
    "                            [12.8,33.3,9.1,20],\n",
    "                            [35.2,0,18.2,20],\n",
    "                            [21.8,0,18.2,20]]),\n",
    "        'Variables':{'x6':['x1']}\n",
    "        }\n",
    "    ],\n",
    "    [\n",
    "        # Given x2\n",
    "        {\n",
    "        'Values':np.array([[12.7,26.6,20,17.6,11.9],\n",
    "                           [74.5,65.6,80,70.6,50],\n",
    "                           [12.7,7.8,0,11.8,38.1]]),\n",
    "        'Variables':{'x3':['x2']}\n",
    "        },\n",
    "        {\n",
    "        'Values':np.array([[41.8,33.4,60,38.2,33.4],\n",
    "                           [7.3,10.9,40,14.7,9.5],\n",
    "                           [10.9,12.5,0,11.8,7.1],\n",
    "                           [40,42.2,0,35.3,50]]),\n",
    "        'Variables':{'x5':['x2']}\n",
    "        }\n",
    "    ],\n",
    "    [\n",
    "        # Given x3\n",
    "        {\n",
    "        'Values':np.array([[19.4,31.1,21.9],\n",
    "                          [47.2,31.8,15.6],\n",
    "                          [2.8,3.03,0],\n",
    "                          [16.7,18.2,12.5],\n",
    "                          [13.9,15.9,50]]),\n",
    "        'Variables':{'x2':['x3']}\n",
    "        },\n",
    "        {\n",
    "        'Values':np.array([[36.1,39.4,31.3],\n",
    "                          [8.3,11.4,12.5],\n",
    "                          [22.2,9.1,3.1],\n",
    "                          [33.3,40.2,53.1]]),\n",
    "        'Variables':{'x5':['x3']}\n",
    "        },\n",
    "        {\n",
    "        'Values':np.array([[0,2.3,0],\n",
    "                          [38.9,31.8,25],\n",
    "                          [8.3,15.2,15.6],\n",
    "                          [36.1,30.3,20.3],\n",
    "                          [16.7,20.4,28.1]]),\n",
    "        'Variables':{'x6':['x3']}\n",
    "        }\n",
    "    ]\n",
    "]\n",
    "\n",
    "for item in cpds_list:\n",
    "    for cpd in item:\n",
    "        cpd['Values'] = cpd['Values']/100\n",
    "    \n",
    "# Marginal Dist\n",
    "marginal_list = {\n",
    "    \"x1\":np.array([0.78,0.015,0.055,0.15]),\n",
    "    \"x2\":np.array([0.275,0.32,0.025,0.17,0.21]),\n",
    "    \"x3\":np.array([0.18,0.66,0.16]),\n",
    "    \"x4\":np.array([0.715,0.105,0.01,0.17]),\n",
    "    \"x5\":np.array([0.375,0.11,0.105,0.41]),\n",
    "    \"x6\":np.array([0.015,0.32,0.14,0.315,0.21])\n",
    "}"
   ]
  },
  {
   "cell_type": "code",
   "execution_count": 3,
   "metadata": {},
   "outputs": [],
   "source": [
    "table = 1\n",
    "_edges = edges_list[table]\n",
    "_nodes = nodes_list[table]\n",
    "_cpds = cpds_list[table]\n",
    "model = BayesianModel(_edges)\n",
    "\n",
    "for node in _nodes:\n",
    "    #model.node[node] = nodes[node]\n",
    "    model.node[node].update(_nodes[node])\n",
    "\n",
    "tabular_cpds = []\n",
    "for cpd in _cpds:\n",
    "    var = list(cpd['Variables'].keys())[0]\n",
    "    evidence = cpd['Variables'][var]\n",
    "    values = cpd['Values']\n",
    "    states = len(_nodes[var]['States'])\n",
    "    evidence_card = [len(_nodes[evidence_var]['States'])\n",
    "                     for evidence_var in evidence]\n",
    "    tabular_cpds.append(\n",
    "        TabularCPD(var, states, values, evidence, evidence_card))\n",
    "\n",
    "model.add_cpds(*tabular_cpds)\n"
   ]
  },
  {
   "cell_type": "code",
   "execution_count": 5,
   "metadata": {},
   "outputs": [
    {
     "data": {
      "image/png": "[encoded data removed]",
      "text/plain": [
       "<Figure size 432x288 with 1 Axes>"
      ]
     },
     "metadata": {},
     "output_type": "display_data"
    }
   ],
   "source": [
    "import networkx as nx\n",
    "import pylab as plt\n",
    "nx.draw(model, with_labels=True)\n",
    "plt.show()"
   ]
  },
  {
   "cell_type": "code",
   "execution_count": 6,
   "metadata": {},
   "outputs": [
    {
     "name": "stdout",
     "output_type": "stream",
     "text": [
      "+------+-------+--------------------+------+---------------------+---------------------+\n",
      "| x2   | x2_0  | x2_1               | x2_2 | x2_3                | x2_4                |\n",
      "+------+-------+--------------------+------+---------------------+---------------------+\n",
      "| x3_0 | 0.127 | 0.266              | 0.2  | 0.17600000000000002 | 0.11900000000000001 |\n",
      "+------+-------+--------------------+------+---------------------+---------------------+\n",
      "| x3_1 | 0.745 | 0.6559999999999999 | 0.8  | 0.706               | 0.5                 |\n",
      "+------+-------+--------------------+------+---------------------+---------------------+\n",
      "| x3_2 | 0.127 | 0.078              | 0.0  | 0.11800000000000001 | 0.381               |\n",
      "+------+-------+--------------------+------+---------------------+---------------------+\n",
      "+------+-------+---------------------+------+---------------------+---------------------+\n",
      "| x2   | x2_0  | x2_1                | x2_2 | x2_3                | x2_4                |\n",
      "+------+-------+---------------------+------+---------------------+---------------------+\n",
      "| x5_0 | 0.418 | 0.33399999999999996 | 0.6  | 0.382               | 0.33399999999999996 |\n",
      "+------+-------+---------------------+------+---------------------+---------------------+\n",
      "| x5_1 | 0.073 | 0.109               | 0.4  | 0.147               | 0.095               |\n",
      "+------+-------+---------------------+------+---------------------+---------------------+\n",
      "| x5_2 | 0.109 | 0.125               | 0.0  | 0.11800000000000001 | 0.071               |\n",
      "+------+-------+---------------------+------+---------------------+---------------------+\n",
      "| x5_3 | 0.4   | 0.42200000000000004 | 0.0  | 0.353               | 0.5                 |\n",
      "+------+-------+---------------------+------+---------------------+---------------------+\n"
     ]
    }
   ],
   "source": [
    "for cpd in model.cpds:\n",
    "    print(cpd)"
   ]
  },
  {
   "cell_type": "code",
   "execution_count": 7,
   "metadata": {},
   "outputs": [],
   "source": [
    "# Local Independencies Don't know correct or not\n",
    "#model.local_independencies('x2')"
   ]
  },
  {
   "cell_type": "code",
   "execution_count": 8,
   "metadata": {},
   "outputs": [],
   "source": [
    "# Independencies based on D-seperation properties\n",
    "#model.get_independencies()"
   ]
  },
  {
   "cell_type": "code",
   "execution_count": 9,
   "metadata": {},
   "outputs": [],
   "source": [
    "# Joint between two variables\n",
    "# If independence test returns false then two variables are not independent\n",
    "def independence_test(condVar,varY,stateX,stateY,cpd_val,marginal_list):\n",
    "    stateY = int(stateY)\n",
    "    stateX = int(stateX)\n",
    "    prob_Y_given_X = cpd_val[stateY][stateX]\n",
    "    marginal_X = marginal_list[condVar][stateX]\n",
    "    lhs = np.multiply(prob_Y_given_X,marginal_X)\n",
    "    marginal_Y = marginal_list[varY][stateY]\n",
    "    rhs = np.multiply(marginal_Y,marginal_X)\n",
    "    return np.abs((lhs-rhs))\n"
   ]
  },
  {
   "cell_type": "code",
   "execution_count": 10,
   "metadata": {},
   "outputs": [
    {
     "name": "stdout",
     "output_type": "stream",
     "text": [
      "x2 , x1\n",
      "0.15977000000000002\n",
      "x4 , x1\n",
      "0.11943000000000005\n",
      "x6 , x1\n",
      "0.16015500000000005\n",
      "x3 , x2\n",
      "0.21852500000000008\n",
      "x5 , x2\n",
      "0.13246000000000005\n",
      "x2 , x3\n",
      "0.21875800000000004\n",
      "x5 , x3\n",
      "0.11551999999999997\n",
      "x6 , x3\n",
      "0.11324000000000001\n"
     ]
    }
   ],
   "source": [
    "numTables = 3\n",
    "for table in range(numTables):\n",
    "    _edges = edges_list[table]\n",
    "    _nodes = nodes_list[table]\n",
    "    _cpds = cpds_list[table]\n",
    "    for cpd in _cpds:\n",
    "        varY = list(cpd[\"Variables\"].keys())[0]\n",
    "        condVar = list(cpd[\"Variables\"].values())[0][0]\n",
    "        cpd_val = cpd['Values']\n",
    "        print(varY,\",\",condVar)\n",
    "        lOne = []\n",
    "        for stateY in _nodes[varY]['States'].keys():\n",
    "            for stateX in _nodes[condVar]['States'].keys():\n",
    "                lOne.append(independence_test(condVar,varY,stateX,stateY,cpd_val,marginal_list))\n",
    "        print(np.sum(lOne))"
   ]
  },
  {
   "cell_type": "code",
   "execution_count": 11,
   "metadata": {},
   "outputs": [
    {
     "data": {
      "text/plain": [
       "'\\nModel 1 uses Naive method for thresholding, Based on cutoff of 0.11 and avoiding loops\\nModel 2 could be a cyclic edge between x3 and x2\\n'"
      ]
     },
     "execution_count": 11,
     "metadata": {},
     "output_type": "execute_result"
    }
   ],
   "source": [
    "'''\n",
    "Model 1 uses Naive method for thresholding, Based on cutoff of 0.11 and avoiding loops\n",
    "Model 2 could be a cyclic edge between x3 and x2\n",
    "'''"
   ]
  },
  {
   "cell_type": "code",
   "execution_count": 13,
   "metadata": {},
   "outputs": [],
   "source": [
    "'''\n",
    "Initial Model:\n",
    "Doesn't model the complex v structure CPD\n",
    "Check below for ongoing work\n",
    "'''\n",
    "table = 0\n",
    "_edges = edges_list[table]\n",
    "_nodes = nodes_list[table]\n",
    "_cpds = cpds_list[table]\n",
    "model = BayesianModel(_edges)\n",
    "\n",
    "for node in _nodes:\n",
    "    #model.node[node] = nodes[node]\n",
    "    model.node[node].update(_nodes[node])\n",
    "\n",
    "tabular_cpds = []\n",
    "for cpd in cpds_list[table]:\n",
    "    var = list(cpd['Variables'].keys())[0]\n",
    "    evidence = cpd['Variables'][var]\n",
    "    values = cpd['Values']\n",
    "    states = len(_nodes[var]['States'])\n",
    "    evidence_card = [len(_nodes[evidence_var]['States'])\n",
    "                     for evidence_var in evidence]\n",
    "    tabular_cpds.append(\n",
    "        TabularCPD(var, states, values, evidence, evidence_card))\n",
    "\n",
    "model.add_cpds(*tabular_cpds)"
   ]
  },
  {
   "cell_type": "code",
   "execution_count": 14,
   "metadata": {},
   "outputs": [
    {
     "data": {
      "image/png": "[encoded data removed]",
      "text/plain": [
       "<Figure size 432x288 with 1 Axes>"
      ]
     },
     "metadata": {},
     "output_type": "display_data"
    }
   ],
   "source": [
    "import networkx as nx\n",
    "import pylab as plt\n",
    "nx.draw(model, with_labels=True)\n",
    "plt.show()"
   ]
  },
  {
   "cell_type": "code",
   "execution_count": 88,
   "metadata": {},
   "outputs": [],
   "source": [
    "def accio_cpd_table(_cond_var):\n",
    "    '''\n",
    "    Lookup the CPD table for a given Variable\n",
    "    Returns the table in which the dist is encoded in\n",
    "    '''\n",
    "    switch_cpd_dict_given = {'x1':0,'x2':1,'x3':2}\n",
    "    table = switch_cpd_dict_given[_cond_var]\n",
    "    return table\n",
    "\n",
    "def accio_state_table(_var,nodes_list):\n",
    "    switch_node_dict = {'x1':0,'x2':0,'x3':1,'x4':0,'x5':1,'x6':2}\n",
    "    states_possible = switch_node_dict[_var]\n",
    "    states_possible = len(list(nodes_list[switch_node_dict[_var]][_var].values())[0].keys())\n",
    "    return states_possible"
   ]
  },
  {
   "cell_type": "code",
   "execution_count": 16,
   "metadata": {},
   "outputs": [],
   "source": [
    "def find_given(_varA,_cond_var,_cond_var_state,_varA_state,cpds_list,marginal_list,ind_dict):\n",
    "    '''\n",
    "    Finds if a variable is dependent or not on the assumption in the paper that any variables\n",
    "    not present in the cpd tables are independent\n",
    "    '''\n",
    "    # Find given values\n",
    "    _cpds = cpds_list[accio_cpd_table(_cond_var)]\n",
    "    if(ind_dict[_varA] == 'I'):\n",
    "        #print(\"Marg\")\n",
    "        # Discarding Cond Var and marg lookup\n",
    "        return marginal_list[_varA][_varA_state]\n",
    "    else:\n",
    "        #print(\"Cond Lookup\")\n",
    "        for _cpd in _cpds:\n",
    "            if _varA in _cpd[\"Variables\"]:\n",
    "                return _cpd[\"Values\"][_varA_state][_cond_var_state]"
   ]
  },
  {
   "cell_type": "code",
   "execution_count": 51,
   "metadata": {},
   "outputs": [
    {
     "name": "stdout",
     "output_type": "stream",
     "text": [
      "x2 state 0\n",
      "x1 state 0\n",
      "x3 state 0\n",
      "x2 state 0\n",
      "x1 state 1\n",
      "x3 state 0\n",
      "x2 state 0\n",
      "x1 state 2\n",
      "x3 state 0\n",
      "x2 state 0\n",
      "x1 state 3\n",
      "x3 state 0\n",
      "x2 state 0\n",
      "x1 state 0\n",
      "x3 state 1\n",
      "x2 state 0\n",
      "x1 state 1\n",
      "x3 state 1\n",
      "x2 state 0\n",
      "x1 state 2\n",
      "x3 state 1\n",
      "x2 state 0\n",
      "x1 state 3\n",
      "x3 state 1\n",
      "x2 state 0\n",
      "x1 state 0\n",
      "x3 state 2\n",
      "x2 state 0\n",
      "x1 state 1\n",
      "x3 state 2\n",
      "x2 state 0\n",
      "x1 state 2\n",
      "x3 state 2\n",
      "x2 state 0\n",
      "x1 state 3\n",
      "x3 state 2\n",
      "x2 state 1\n",
      "x1 state 0\n",
      "x3 state 0\n",
      "x2 state 1\n",
      "x1 state 1\n",
      "x3 state 0\n",
      "x2 state 1\n",
      "x1 state 2\n",
      "x3 state 0\n",
      "x2 state 1\n",
      "x1 state 3\n",
      "x3 state 0\n",
      "x2 state 1\n",
      "x1 state 0\n",
      "x3 state 1\n",
      "x2 state 1\n",
      "x1 state 1\n",
      "x3 state 1\n",
      "x2 state 1\n",
      "x1 state 2\n",
      "x3 state 1\n",
      "x2 state 1\n",
      "x1 state 3\n",
      "x3 state 1\n",
      "x2 state 1\n",
      "x1 state 0\n",
      "x3 state 2\n",
      "x2 state 1\n",
      "x1 state 1\n",
      "x3 state 2\n",
      "x2 state 1\n",
      "x1 state 2\n",
      "x3 state 2\n",
      "x2 state 1\n",
      "x1 state 3\n",
      "x3 state 2\n",
      "x2 state 2\n",
      "x1 state 0\n",
      "x3 state 0\n",
      "x2 state 2\n",
      "x1 state 1\n",
      "x3 state 0\n",
      "x2 state 2\n",
      "x1 state 2\n",
      "x3 state 0\n",
      "x2 state 2\n",
      "x1 state 3\n",
      "x3 state 0\n",
      "x2 state 2\n",
      "x1 state 0\n",
      "x3 state 1\n",
      "x2 state 2\n",
      "x1 state 1\n",
      "x3 state 1\n",
      "x2 state 2\n",
      "x1 state 2\n",
      "x3 state 1\n",
      "x2 state 2\n",
      "x1 state 3\n",
      "x3 state 1\n",
      "x2 state 2\n",
      "x1 state 0\n",
      "x3 state 2\n",
      "x2 state 2\n",
      "x1 state 1\n",
      "x3 state 2\n",
      "x2 state 2\n",
      "x1 state 2\n",
      "x3 state 2\n",
      "x2 state 2\n",
      "x1 state 3\n",
      "x3 state 2\n",
      "x2 state 3\n",
      "x1 state 0\n",
      "x3 state 0\n",
      "x2 state 3\n",
      "x1 state 1\n",
      "x3 state 0\n",
      "x2 state 3\n",
      "x1 state 2\n",
      "x3 state 0\n",
      "x2 state 3\n",
      "x1 state 3\n",
      "x3 state 0\n",
      "x2 state 3\n",
      "x1 state 0\n",
      "x3 state 1\n",
      "x2 state 3\n",
      "x1 state 1\n",
      "x3 state 1\n",
      "x2 state 3\n",
      "x1 state 2\n",
      "x3 state 1\n",
      "x2 state 3\n",
      "x1 state 3\n",
      "x3 state 1\n",
      "x2 state 3\n",
      "x1 state 0\n",
      "x3 state 2\n",
      "x2 state 3\n",
      "x1 state 1\n",
      "x3 state 2\n",
      "x2 state 3\n",
      "x1 state 2\n",
      "x3 state 2\n",
      "x2 state 3\n",
      "x1 state 3\n",
      "x3 state 2\n",
      "x2 state 4\n",
      "x1 state 0\n",
      "x3 state 0\n",
      "x2 state 4\n",
      "x1 state 1\n",
      "x3 state 0\n",
      "x2 state 4\n",
      "x1 state 2\n",
      "x3 state 0\n",
      "x2 state 4\n",
      "x1 state 3\n",
      "x3 state 0\n",
      "x2 state 4\n",
      "x1 state 0\n",
      "x3 state 1\n",
      "x2 state 4\n",
      "x1 state 1\n",
      "x3 state 1\n",
      "x2 state 4\n",
      "x1 state 2\n",
      "x3 state 1\n",
      "x2 state 4\n",
      "x1 state 3\n",
      "x3 state 1\n",
      "x2 state 4\n",
      "x1 state 0\n",
      "x3 state 2\n",
      "x2 state 4\n",
      "x1 state 1\n",
      "x3 state 2\n",
      "x2 state 4\n",
      "x1 state 2\n",
      "x3 state 2\n",
      "x2 state 4\n",
      "x1 state 3\n",
      "x3 state 2\n"
     ]
    }
   ],
   "source": [
    "# Need recursion for future to decompose multiple nodes\n",
    "'''\n",
    "Toy example:\n",
    "We have P(Y | X1,X2)\n",
    "1. Finding Conditionals: P(X1 | Y), P(X2 | Y), P(X1 | X2)\n",
    "2. Finding Marginals: P(Y), P(X2)\n",
    "Finding 60 variables\n",
    "'''\n",
    "# Getting compound cpds\n",
    "cond_var = ['x1','x3']\n",
    "random_var = 'x2'\n",
    "\n",
    "# How to find which table corresponds to the rand var? See the function desc for more details\n",
    "table = accio_cpd_table(random_var)\n",
    "\n",
    "# Finding the states of the rand var and cond var\n",
    "switch_node_dict = {'x1':0,'x2':0,'x3':1,'x4':0,'x5':1,'x6':2}\n",
    "_state_dict = {}\n",
    "_random_var_states = len(list(nodes_list[switch_node_dict[random_var]][random_var].values())[0].keys())\n",
    "for _cond_var in cond_var:\n",
    "    _state_dict[_cond_var] = len(list(nodes_list[switch_node_dict[_cond_var]][_cond_var].values())[0].keys())\n",
    "\n",
    "# Independent dict to keep track of the variables which are dependent on the paper assumption\n",
    "ind_dict = {}\n",
    "for _cond_var in cond_var:\n",
    "    for _cpds in cpds_list[table]:\n",
    "        # Breaking since there will be only one path from cond var to the rand variable\n",
    "        if _cond_var in _cpds['Variables']:\n",
    "            ind_dict[_cond_var]= \"D\"\n",
    "            break;\n",
    "        else:\n",
    "            ind_dict[_cond_var]= \"I\"\n",
    "            break;\n",
    "\n",
    "# Skeleton of the resulting CPD\n",
    "x2_given_x1_x3_cpd = [[] for i in range(_random_var_states)]\n",
    "i = 0  # Diags\n",
    "for Y_state in range(_random_var_states):\n",
    "    for X2_state in range(_state_dict[cond_var[1]]):\n",
    "        for X1_state in range(_state_dict[cond_var[0]]):\n",
    "            i +=1  # Diags\n",
    "            print(random_var,\"state\",Y_state)\n",
    "            print(cond_var[0],\"state\",X1_state)\n",
    "            print(cond_var[1],\"state\",X2_state)\n",
    "            X1_given_Y = find_given(_varA=cond_var[0],_cond_var='x2',\n",
    "                             _varA_state=X1_state,_cond_var_state=Y_state,\n",
    "                             cpds_list=cpds_list,marginal_list=marginal_list,ind_dict=ind_dict)\n",
    "            X2_given_Y = find_given(_varA=cond_var[1],_cond_var='x2',\n",
    "                                   _varA_state=X2_state,_cond_var_state=Y_state,\n",
    "                                   cpds_list=cpds_list,marginal_list=marginal_list,ind_dict=ind_dict)\n",
    "            Y = marginal_list['x2'][Y_state]\n",
    "            X1_given_X2 = find_given(_varA=cond_var[0],_cond_var=cond_var[1],\n",
    "                                    _varA_state=X1_state,_cond_var_state=X2_state,\n",
    "                                    cpds_list=cpds_list,marginal_list=marginal_list,ind_dict=ind_dict)\n",
    "            X2 = marginal_list[cond_var[1]][X2_state]\n",
    "            num = np.multiply(X1_given_Y,X2_given_Y)\n",
    "            num = np.multiply(num,Y)\n",
    "            deno = np.multiply(X1_given_X2,X2)\n",
    "            x2_given_x1_x3_cpd[Y_state].append(np.divide(num,deno))\n",
    "            #print(np.divide(num,deno))\n",
    "            #print(i)"
   ]
  },
  {
   "cell_type": "code",
   "execution_count": 21,
   "metadata": {},
   "outputs": [
    {
     "data": {
      "text/plain": [
       "array([[0.19402778, 0.19402778, 0.19402778, 0.19402778, 0.31041667,\n",
       "        0.31041667, 0.31041667, 0.31041667, 0.21828125, 0.21828125,\n",
       "        0.21828125, 0.21828125],\n",
       "       [0.47288889, 0.47288889, 0.47288889, 0.47288889, 0.31806061,\n",
       "        0.31806061, 0.31806061, 0.31806061, 0.156     , 0.156     ,\n",
       "        0.156     , 0.156     ],\n",
       "       [0.02777778, 0.02777778, 0.02777778, 0.02777778, 0.03030303,\n",
       "        0.03030303, 0.03030303, 0.03030303, 0.        , 0.        ,\n",
       "        0.        , 0.        ],\n",
       "       [0.16622222, 0.16622222, 0.16622222, 0.16622222, 0.18184848,\n",
       "        0.18184848, 0.18184848, 0.18184848, 0.125375  , 0.125375  ,\n",
       "        0.125375  , 0.125375  ],\n",
       "       [0.13883333, 0.13883333, 0.13883333, 0.13883333, 0.15909091,\n",
       "        0.15909091, 0.15909091, 0.15909091, 0.5000625 , 0.5000625 ,\n",
       "        0.5000625 , 0.5000625 ]])"
      ]
     },
     "execution_count": 21,
     "metadata": {},
     "output_type": "execute_result"
    }
   ],
   "source": [
    "x2_given_x1_x3_cpd = np.array(x2_given_x1_x3_cpd)\n",
    "x2_given_x1_x3_cpd"
   ]
  },
  {
   "cell_type": "code",
   "execution_count": 22,
   "metadata": {},
   "outputs": [
    {
     "data": {
      "text/plain": [
       "{'Values': array([[0.19402778, 0.19402778, 0.19402778, 0.19402778, 0.31041667,\n",
       "         0.31041667, 0.31041667, 0.31041667, 0.21828125, 0.21828125,\n",
       "         0.21828125, 0.21828125],\n",
       "        [0.47288889, 0.47288889, 0.47288889, 0.47288889, 0.31806061,\n",
       "         0.31806061, 0.31806061, 0.31806061, 0.156     , 0.156     ,\n",
       "         0.156     , 0.156     ],\n",
       "        [0.02777778, 0.02777778, 0.02777778, 0.02777778, 0.03030303,\n",
       "         0.03030303, 0.03030303, 0.03030303, 0.        , 0.        ,\n",
       "         0.        , 0.        ],\n",
       "        [0.16622222, 0.16622222, 0.16622222, 0.16622222, 0.18184848,\n",
       "         0.18184848, 0.18184848, 0.18184848, 0.125375  , 0.125375  ,\n",
       "         0.125375  , 0.125375  ],\n",
       "        [0.13883333, 0.13883333, 0.13883333, 0.13883333, 0.15909091,\n",
       "         0.15909091, 0.15909091, 0.15909091, 0.5000625 , 0.5000625 ,\n",
       "         0.5000625 , 0.5000625 ]]), 'Variables': {'x2': ['x1', 'x3']}}"
      ]
     },
     "execution_count": 22,
     "metadata": {},
     "output_type": "execute_result"
    }
   ],
   "source": [
    "new_addition = []\n",
    "temp_dict = {\n",
    "    'Values': x2_given_x1_x3_cpd,\n",
    "    'Variables': {'x2':['x1','x3']}\n",
    "}\n",
    "temp_dict"
   ]
  },
  {
   "cell_type": "code",
   "execution_count": 109,
   "metadata": {},
   "outputs": [
    {
     "data": {
      "text/plain": [
       "array([0.78 , 0.015, 0.055, 0.15 ])"
      ]
     },
     "execution_count": 109,
     "metadata": {},
     "output_type": "execute_result"
    }
   ],
   "source": [
    "marginal_list['x1']"
   ]
  },
  {
   "cell_type": "code",
   "execution_count": 122,
   "metadata": {},
   "outputs": [
    {
     "data": {
      "text/plain": [
       "0"
      ]
     },
     "execution_count": 122,
     "metadata": {},
     "output_type": "execute_result"
    }
   ],
   "source": [
    "accio_cpd_table('x1')"
   ]
  },
  {
   "cell_type": "code",
   "execution_count": 128,
   "metadata": {},
   "outputs": [
    {
     "data": {
      "text/plain": [
       "{'Values': array([[0.019, 0.   , 0.   , 0.   ],\n",
       "        [0.282, 0.666, 0.545, 0.4  ],\n",
       "        [0.128, 0.333, 0.091, 0.2  ],\n",
       "        [0.352, 0.   , 0.182, 0.2  ],\n",
       "        [0.218, 0.   , 0.182, 0.2  ]]), 'Variables': {'x6': ['x1']}}"
      ]
     },
     "execution_count": 128,
     "metadata": {},
     "output_type": "execute_result"
    }
   ],
   "source": []
  },
  {
   "cell_type": "code",
   "execution_count": 129,
   "metadata": {},
   "outputs": [],
   "source": [
    "edges_list_nw = [\n",
    "    [('x1','x2'),\n",
    "    ('x1','x4'),\n",
    "    ('x1','x6'),\n",
    "    ('x3','x2')]\n",
    "]\n",
    "\n",
    "cpds_list_nw = [\n",
    "    [\n",
    "        {\n",
    "        'Values': cpds_list[0][1]['Values'],\n",
    "        'Variables':{'x4':['x1']}\n",
    "        },\n",
    "        {\n",
    "        'Values': cpds_list[0][2]['Values'],\n",
    "        'Variables':{'x6':['x1']}\n",
    "        },\n",
    "        temp_dict,\n",
    "        {\n",
    "        'Values': np.array(marginal_list['x1']),\n",
    "        'Variables':{'x1':[]}\n",
    "        },\n",
    "        {\n",
    "        'Values': np.array(marginal_list['x3']),\n",
    "        'Variables':{'x3':[]}\n",
    "        }\n",
    "    ]\n",
    "]\n"
   ]
  },
  {
   "cell_type": "code",
   "execution_count": 130,
   "metadata": {},
   "outputs": [
    {
     "data": {
      "text/plain": [
       "{'Values': array([[0.2, 0.2, 0.2, 0.2, 0.3, 0.3, 0.3, 0.3, 0.2, 0.2, 0.2, 0.2],\n",
       "        [0.5, 0.5, 0.5, 0.5, 0.3, 0.3, 0.3, 0.3, 0.2, 0.2, 0.2, 0.2],\n",
       "        [0. , 0. , 0. , 0. , 0. , 0. , 0. , 0. , 0. , 0. , 0. , 0. ],\n",
       "        [0.2, 0.2, 0.2, 0.2, 0.2, 0.2, 0.2, 0.2, 0.1, 0.1, 0.1, 0.1],\n",
       "        [0.1, 0.1, 0.1, 0.1, 0.2, 0.2, 0.2, 0.2, 0.5, 0.5, 0.5, 0.5]]),\n",
       " 'Variables': {'x2': ['x1', 'x3']}}"
      ]
     },
     "execution_count": 130,
     "metadata": {},
     "output_type": "execute_result"
    }
   ],
   "source": [
    "cpds_list_nw[0][2]"
   ]
  },
  {
   "cell_type": "code",
   "execution_count": 131,
   "metadata": {},
   "outputs": [],
   "source": [
    "# Hyperparam for decimal roundoff\n",
    "cpds_list_nw[0][2]['Values'] = np.round(cpds_list_nw[0][2]['Values'],1)"
   ]
  },
  {
   "cell_type": "code",
   "execution_count": 132,
   "metadata": {},
   "outputs": [
    {
     "data": {
      "text/plain": [
       "{'x1': 4, 'x3': 3}"
      ]
     },
     "execution_count": 132,
     "metadata": {},
     "output_type": "execute_result"
    }
   ],
   "source": [
    "_state_dict"
   ]
  },
  {
   "cell_type": "code",
   "execution_count": 133,
   "metadata": {},
   "outputs": [
    {
     "name": "stdout",
     "output_type": "stream",
     "text": [
      "+------+------+------+------+------+------+------+------+------+------+------+------+------+\n",
      "| x3   | x3_0 | x3_0 | x3_0 | x3_0 | x3_1 | x3_1 | x3_1 | x3_1 | x3_2 | x3_2 | x3_2 | x3_2 |\n",
      "+------+------+------+------+------+------+------+------+------+------+------+------+------+\n",
      "| x1   | x1_0 | x1_1 | x1_2 | x1_3 | x1_0 | x1_1 | x1_2 | x1_3 | x1_0 | x1_1 | x1_2 | x1_3 |\n",
      "+------+------+------+------+------+------+------+------+------+------+------+------+------+\n",
      "| x2_0 | 0.2  | 0.2  | 0.2  | 0.2  | 0.3  | 0.3  | 0.3  | 0.3  | 0.2  | 0.2  | 0.2  | 0.2  |\n",
      "+------+------+------+------+------+------+------+------+------+------+------+------+------+\n",
      "| x2_1 | 0.5  | 0.5  | 0.5  | 0.5  | 0.3  | 0.3  | 0.3  | 0.3  | 0.2  | 0.2  | 0.2  | 0.2  |\n",
      "+------+------+------+------+------+------+------+------+------+------+------+------+------+\n",
      "| x2_2 | 0.0  | 0.0  | 0.0  | 0.0  | 0.0  | 0.0  | 0.0  | 0.0  | 0.0  | 0.0  | 0.0  | 0.0  |\n",
      "+------+------+------+------+------+------+------+------+------+------+------+------+------+\n",
      "| x2_3 | 0.2  | 0.2  | 0.2  | 0.2  | 0.2  | 0.2  | 0.2  | 0.2  | 0.1  | 0.1  | 0.1  | 0.1  |\n",
      "+------+------+------+------+------+------+------+------+------+------+------+------+------+\n",
      "| x2_4 | 0.1  | 0.1  | 0.1  | 0.1  | 0.2  | 0.2  | 0.2  | 0.2  | 0.5  | 0.5  | 0.5  | 0.5  |\n",
      "+------+------+------+------+------+------+------+------+------+------+------+------+------+\n"
     ]
    }
   ],
   "source": [
    "testCPD = TabularCPD('x2',_random_var_states, cpds_list_nw[0][2]['Values'], ['x3','x1'], [3,4])\n",
    "print(testCPD)"
   ]
  },
  {
   "cell_type": "code",
   "execution_count": 134,
   "metadata": {},
   "outputs": [
    {
     "data": {
      "text/plain": [
       "array([[0.2, 0.2, 0.2, 0.2, 0.3, 0.3, 0.3, 0.3, 0.2, 0.2, 0.2, 0.2],\n",
       "       [0.5, 0.5, 0.5, 0.5, 0.3, 0.3, 0.3, 0.3, 0.2, 0.2, 0.2, 0.2],\n",
       "       [0. , 0. , 0. , 0. , 0. , 0. , 0. , 0. , 0. , 0. , 0. , 0. ],\n",
       "       [0.2, 0.2, 0.2, 0.2, 0.2, 0.2, 0.2, 0.2, 0.1, 0.1, 0.1, 0.1],\n",
       "       [0.1, 0.1, 0.1, 0.1, 0.2, 0.2, 0.2, 0.2, 0.5, 0.5, 0.5, 0.5]])"
      ]
     },
     "execution_count": 134,
     "metadata": {},
     "output_type": "execute_result"
    }
   ],
   "source": [
    "cpds_list_nw[0][2]['Values']"
   ]
  },
  {
   "cell_type": "code",
   "execution_count": 135,
   "metadata": {},
   "outputs": [],
   "source": [
    "'''\n",
    "Initial Model:\n",
    "Doesn't model the complex v structure CPD\n",
    "Check below for ongoing work\n",
    "'''\n",
    "table = 0\n",
    "_edges = edges_list_nw[table]\n",
    "_nodes = nodes_list[table]\n",
    "_cpds = cpds_list_nw[table]\n",
    "nw1 = BayesianModel(_edges)\n",
    "\n",
    "for node in _nodes:\n",
    "    #model.node[node] = nodes[node]\n",
    "    nw1.node[node].update(_nodes[node])\n",
    "\n",
    "tabular_cpds = []\n",
    "tabular_cpds.append(TabularCPD('x6',accio_state_table('x6',nodes_list),cpds_list_nw[0][1]['Values'],['x1'],[accio_state_table('x1',nodes_list)]))\n",
    "tabular_cpds.append(TabularCPD('x4',accio_state_table('x4',nodes_list),cpds_list_nw[0][0]['Values'],['x1'],[accio_state_table('x4',nodes_list)]))\n",
    "tabular_cpds.append(TabularCPD('x2',accio_state_table('x2',nodes_list),cpds_list_nw[0][2]['Values'],['x3','x1'],[accio_state_table('x3',nodes_list),accio_state_table('x1',nodes_list)]))\n",
    "tabular_cpds.append(TabularCPD('x1',accio_state_table('x1',nodes_list),[cpds_list_nw[0][3]['Values']]))\n",
    "tabular_cpds.append(TabularCPD('x3',accio_state_table('x3',nodes_list),[cpds_list_nw[0][4]['Values']]))\n",
    "\n",
    "nw1.add_cpds(*tabular_cpds)"
   ]
  },
  {
   "cell_type": "code",
   "execution_count": 136,
   "metadata": {},
   "outputs": [
    {
     "name": "stdout",
     "output_type": "stream",
     "text": [
      "+------+---------------------+---------------------+-------+------+\n",
      "| x1   | x1_0                | x1_1                | x1_2  | x1_3 |\n",
      "+------+---------------------+---------------------+-------+------+\n",
      "| x6_0 | 0.019               | 0.0                 | 0.0   | 0.0  |\n",
      "+------+---------------------+---------------------+-------+------+\n",
      "| x6_1 | 0.282               | 0.6659999999999999  | 0.545 | 0.4  |\n",
      "+------+---------------------+---------------------+-------+------+\n",
      "| x6_2 | 0.128               | 0.33299999999999996 | 0.091 | 0.2  |\n",
      "+------+---------------------+---------------------+-------+------+\n",
      "| x6_3 | 0.35200000000000004 | 0.0                 | 0.182 | 0.2  |\n",
      "+------+---------------------+---------------------+-------+------+\n",
      "| x6_4 | 0.218               | 0.0                 | 0.182 | 0.2  |\n",
      "+------+---------------------+---------------------+-------+------+\n",
      "+------+----------------------+------+-------+--------------------+\n",
      "| x1   | x1_0                 | x1_1 | x1_2  | x1_3               |\n",
      "+------+----------------------+------+-------+--------------------+\n",
      "| x4_0 | 0.737                | 1.0  | 0.727 | 0.5670000000000001 |\n",
      "+------+----------------------+------+-------+--------------------+\n",
      "| x4_1 | 0.077                | 0.0  | 0.273 | 0.2                |\n",
      "+------+----------------------+------+-------+--------------------+\n",
      "| x4_2 | 0.013000000000000001 | 0.0  | 0.0   | 0.0                |\n",
      "+------+----------------------+------+-------+--------------------+\n",
      "| x4_3 | 0.17300000000000001  | 0.0  | 0.0   | 0.233              |\n",
      "+------+----------------------+------+-------+--------------------+\n",
      "+------+------+------+------+------+------+------+------+------+------+------+------+------+\n",
      "| x3   | x3_0 | x3_0 | x3_0 | x3_0 | x3_1 | x3_1 | x3_1 | x3_1 | x3_2 | x3_2 | x3_2 | x3_2 |\n",
      "+------+------+------+------+------+------+------+------+------+------+------+------+------+\n",
      "| x1   | x1_0 | x1_1 | x1_2 | x1_3 | x1_0 | x1_1 | x1_2 | x1_3 | x1_0 | x1_1 | x1_2 | x1_3 |\n",
      "+------+------+------+------+------+------+------+------+------+------+------+------+------+\n",
      "| x2_0 | 0.2  | 0.2  | 0.2  | 0.2  | 0.3  | 0.3  | 0.3  | 0.3  | 0.2  | 0.2  | 0.2  | 0.2  |\n",
      "+------+------+------+------+------+------+------+------+------+------+------+------+------+\n",
      "| x2_1 | 0.5  | 0.5  | 0.5  | 0.5  | 0.3  | 0.3  | 0.3  | 0.3  | 0.2  | 0.2  | 0.2  | 0.2  |\n",
      "+------+------+------+------+------+------+------+------+------+------+------+------+------+\n",
      "| x2_2 | 0.0  | 0.0  | 0.0  | 0.0  | 0.0  | 0.0  | 0.0  | 0.0  | 0.0  | 0.0  | 0.0  | 0.0  |\n",
      "+------+------+------+------+------+------+------+------+------+------+------+------+------+\n",
      "| x2_3 | 0.2  | 0.2  | 0.2  | 0.2  | 0.2  | 0.2  | 0.2  | 0.2  | 0.1  | 0.1  | 0.1  | 0.1  |\n",
      "+------+------+------+------+------+------+------+------+------+------+------+------+------+\n",
      "| x2_4 | 0.1  | 0.1  | 0.1  | 0.1  | 0.2  | 0.2  | 0.2  | 0.2  | 0.5  | 0.5  | 0.5  | 0.5  |\n",
      "+------+------+------+------+------+------+------+------+------+------+------+------+------+\n",
      "+------+-------+\n",
      "| x1_0 | 0.78  |\n",
      "+------+-------+\n",
      "| x1_1 | 0.015 |\n",
      "+------+-------+\n",
      "| x1_2 | 0.055 |\n",
      "+------+-------+\n",
      "| x1_3 | 0.15  |\n",
      "+------+-------+\n",
      "+------+------+\n",
      "| x3_0 | 0.18 |\n",
      "+------+------+\n",
      "| x3_1 | 0.66 |\n",
      "+------+------+\n",
      "| x3_2 | 0.16 |\n",
      "+------+------+\n"
     ]
    }
   ],
   "source": [
    "for cpd in nw1.cpds:\n",
    "    print(cpd)"
   ]
  },
  {
   "cell_type": "code",
   "execution_count": 137,
   "metadata": {},
   "outputs": [
    {
     "data": {
      "image/png": "[encoded data removed]",
      "text/plain": [
       "<Figure size 432x288 with 1 Axes>"
      ]
     },
     "metadata": {},
     "output_type": "display_data"
    }
   ],
   "source": [
    "import networkx as nx\n",
    "import pylab as plt\n",
    "nx.draw(model, with_labels=True)\n",
    "plt.show()"
   ]
  },
  {
   "cell_type": "code",
   "execution_count": 147,
   "metadata": {},
   "outputs": [],
   "source": [
    "from pgmpy.sampling import BayesianModelSampling\n",
    "from pgmpy.estimators import K2Score\n",
    "import pandas as pd"
   ]
  },
  {
   "cell_type": "code",
   "execution_count": 148,
   "metadata": {},
   "outputs": [],
   "source": [
    "inference = BayesianModelSampling(nw1)"
   ]
  },
  {
   "cell_type": "code",
   "execution_count": 149,
   "metadata": {},
   "outputs": [],
   "source": [
    "data = inference.forward_sample(size=50, return_type='dataframe')"
   ]
  },
  {
   "cell_type": "code",
   "execution_count": 178,
   "metadata": {},
   "outputs": [],
   "source": [
    "k2 = K2Score(data)"
   ]
  },
  {
   "cell_type": "code",
   "execution_count": 179,
   "metadata": {},
   "outputs": [],
   "source": [
    "k2_nw1 = BayesianModel(edges_list_nw[0])"
   ]
  },
  {
   "cell_type": "code",
   "execution_count": 180,
   "metadata": {},
   "outputs": [
    {
     "data": {
      "text/plain": [
       "[('x1', 'x2'), ('x1', 'x4'), ('x1', 'x6'), ('x3', 'x2')]"
      ]
     },
     "execution_count": 180,
     "metadata": {},
     "output_type": "execute_result"
    }
   ],
   "source": [
    "edges_list_nw[0]"
   ]
  },
  {
   "cell_type": "code",
   "execution_count": 189,
   "metadata": {},
   "outputs": [
    {
     "name": "stdout",
     "output_type": "stream",
     "text": [
      "<bound method StructureScore.score of <pgmpy.estimators.K2Score.K2Score object at 0x7f01583da940>>\n"
     ]
    }
   ],
   "source": [
    "k2.score"
   ]
  },
  {
   "cell_type": "code",
   "execution_count": 190,
   "metadata": {},
   "outputs": [],
   "source": [
    "import networkx"
   ]
  },
  {
   "cell_type": "code",
   "execution_count": 191,
   "metadata": {},
   "outputs": [
    {
     "data": {
      "text/plain": [
       "'2.2'"
      ]
     },
     "execution_count": 191,
     "metadata": {},
     "output_type": "execute_result"
    }
   ],
   "source": [
    "networkx.__version__"
   ]
  },
  {
   "cell_type": "code",
   "execution_count": null,
   "metadata": {},
   "outputs": [],
   "source": []
  }
 ],
 "metadata": {
  "kernelspec": {
   "display_name": "Python 3",
   "language": "python",
   "name": "python3"
  },
  "language_info": {
   "codemirror_mode": {
    "name": "ipython",
    "version": 3
   },
   "file_extension": ".py",
   "mimetype": "text/x-python",
   "name": "python",
   "nbconvert_exporter": "python",
   "pygments_lexer": "ipython3",
   "version": "3.7.2"
  }
 },
 "nbformat": 4,
 "nbformat_minor": 2
}
