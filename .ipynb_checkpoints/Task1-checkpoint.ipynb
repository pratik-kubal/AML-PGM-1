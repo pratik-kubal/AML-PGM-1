{
 "cells": [
  {
   "cell_type": "code",
   "execution_count": 1,
   "metadata": {},
   "outputs": [],
   "source": [
    "# Task 1\n",
    "# Imports\n",
    "from pgmpy.factors.discrete import TabularCPD\n",
    "import numpy as np\n",
    "import pandas as pd\n",
    "from pgmpy.models import BayesianModel\n",
    "import network_map\n",
    "from pgmpy.sampling import BayesianModelSampling\n",
    "from pgmpy.estimators import K2Score\n",
    "from pgmpy.inference import VariableElimination\n",
    "import pandas as pd"
   ]
  },
  {
   "cell_type": "code",
   "execution_count": 2,
   "metadata": {},
   "outputs": [],
   "source": [
    "edges_list = network_map.edges_list\n",
    "nodes_list = network_map.nodes_list\n",
    "cpds_list = network_map.cpds_list\n",
    "marginal_list = network_map.marginal_list"
   ]
  },
  {
   "cell_type": "code",
   "execution_count": 52,
   "metadata": {},
   "outputs": [],
   "source": [
    "# Functions\n",
    "def independence_test(condVar,varY,stateX,stateY,cpd_val,marginal_list):\n",
    "    stateY = int(stateY)\n",
    "    stateX = int(stateX)\n",
    "    prob_Y_given_X = cpd_val[stateY][stateX]\n",
    "    marginal_X = marginal_list[condVar][stateX]\n",
    "    lhs = np.multiply(prob_Y_given_X,marginal_X)\n",
    "    marginal_Y = marginal_list[varY][stateY]\n",
    "    rhs = np.multiply(marginal_Y,marginal_X)\n",
    "    return (np.abs(lhs-rhs))\n",
    "\n",
    "def accio_cpd_table(_cond_var):\n",
    "    '''\n",
    "    Lookup the CPD table for a given Variable\n",
    "    Returns the table in which the dist is encoded in\n",
    "    '''\n",
    "    switch_cpd_dict_given = {'x1':0,'x2':1,'x3':2,'x4':3,'x5':4,'x6':5}\n",
    "    table = switch_cpd_dict_given[_cond_var]\n",
    "    return table\n",
    "\n",
    "def accio_state_table(_var,nodes_list):\n",
    "    switch_node_dict = {'x1':0,'x2':0,'x3':1,'x4':0,'x5':1,'x6':2}\n",
    "    states_possible = switch_node_dict[_var]\n",
    "    states_possible = len(list(nodes_list[switch_node_dict[_var]][_var].values())[0].keys())\n",
    "    return states_possible\n",
    "\n",
    "def find_cpd_defined_or_not(varA,givenVar):\n",
    "    for _cpds in cpds_list[accio_cpd_table(givenVar)]:\n",
    "        if varA in _cpds[\"Variables\"].keys():\n",
    "            return \"D\"\n",
    "    for _cpds in cpds_list[accio_cpd_table(varA)]:\n",
    "        if givenVar in _cpds[\"Variables\"].keys():\n",
    "            return \"B\"\n",
    "    return \"I\"\n",
    "\n",
    "def find_given(_varA,_cond_var,_cond_var_state,_varA_state,cpds_list,marginal_list,ind_dict):\n",
    "    '''\n",
    "    Finds if a variable is dependent or not on the assumption in the paper that any variables\n",
    "    not present in the cpd tables are independent\n",
    "    '''\n",
    "    # Find given values\n",
    "    _cpds = cpds_list[accio_cpd_table(_cond_var)]\n",
    "    if(ind_dict[_varA] == 'I'):\n",
    "        #print(\"Marg\")\n",
    "        # Discarding Cond Var and marg lookup\n",
    "        return marginal_list[_varA][_varA_state]\n",
    "    elif(ind_dict[_varA] == 'B'):\n",
    "        # Bayes theorem\n",
    "        for _cpd in cpds_list[accio_cpd_table(_varA)]:\n",
    "            if _cond_var in _cpd[\"Variables\"]:\n",
    "                #print(_cpd)\n",
    "                left = _cpd[\"Values\"][_cond_var_state][_varA_state]\n",
    "        #print(_varA,_cond_var)\n",
    "        right = marginal_list[_varA][_varA_state]\n",
    "        #print(left,\",\",right)\n",
    "        num = np.multiply(left,right)\n",
    "        deno = marginal_list[_cond_var][_cond_var_state]\n",
    "        #print(np.divide(num,deno))\n",
    "        return np.divide(num,deno)\n",
    "    elif(ind_dict[_varA] == 'D'):\n",
    "        #print(\"Cond Lookup\")\n",
    "        for _cpd in _cpds:\n",
    "            if _varA in _cpd[\"Variables\"]:\n",
    "                return _cpd[\"Values\"][_varA_state][_cond_var_state]\n",
    "            \n",
    "def v_structure_cpd(cond_var,random_var):\n",
    "    # Need recursion for future to decompose multiple nodes\n",
    "    '''\n",
    "    Toy example:\n",
    "    We have P(Y | X1,X2)\n",
    "    1. Finding Conditionals: P(X1 | Y), P(X2 | Y), P(X1 | X2)\n",
    "    2. Finding Marginals: P(Y), P(X2)\n",
    "    Finding 60 variables\n",
    "    '''\n",
    "\n",
    "    # How to find which table corresponds to the rand var? See the function desc for more details\n",
    "    table = accio_cpd_table(random_var)\n",
    "\n",
    "    # Finding the states of the rand var and cond var\n",
    "    switch_node_dict = {'x1':0,'x2':0,'x3':1,'x4':0,'x5':1,'x6':2}\n",
    "    _state_dict = {}\n",
    "    _random_var_states = len(list(nodes_list[switch_node_dict[random_var]][random_var].values())[0].keys())\n",
    "    for _cond_var in cond_var:\n",
    "        _state_dict[_cond_var] = len(list(nodes_list[switch_node_dict[_cond_var]][_cond_var].values())[0].keys())\n",
    "\n",
    "    # Independent dict to keep track of the variables which are dependent on the paper assumption\n",
    "    ind_dict = {}\n",
    "    for _cond_var in cond_var:\n",
    "        ind_dict[_cond_var] = find_cpd_defined_or_not(_cond_var,random_var)\n",
    "    # Skeleton of the resulting CPD\n",
    "    x2_given_x1_x3_cpd = [[] for i in range(_random_var_states)]\n",
    "    #print(_random_var_states)\n",
    "    #print(_state_dict)\n",
    "    i = 0  # Diags\n",
    "    for Y_state in range(_random_var_states):\n",
    "        for X2_state in range(_state_dict[cond_var[1]]):\n",
    "            for X1_state in range(_state_dict[cond_var[0]]):\n",
    "                i +=1  # Diags\n",
    "                X1_given_Y = find_given(_varA=cond_var[0],_cond_var=random_var,\n",
    "                                 _varA_state=X1_state,_cond_var_state=Y_state,\n",
    "                                 cpds_list=cpds_list,marginal_list=marginal_list,ind_dict=ind_dict)\n",
    "                X2_given_Y = find_given(_varA=cond_var[1],_cond_var=random_var,\n",
    "                                       _varA_state=X2_state,_cond_var_state=Y_state,\n",
    "                                       cpds_list=cpds_list,marginal_list=marginal_list,ind_dict=ind_dict)\n",
    "                Y = marginal_list[random_var][Y_state]\n",
    "                '''\n",
    "                Depends on the case if x1 and x2 are independent then use P(x).P(y) = P(x,y) or else have to use \n",
    "                P(x,y) = P(x | y). P(y)'''\n",
    "                # Redifine\n",
    "                if(find_cpd_defined_or_not(cond_var[0],cond_var[1]) == 'I'):\n",
    "                    X1_X2 = np.multiply(marginal_list[cond_var[0]][X1_state],marginal_list[cond_var[1]][X2_state])\n",
    "                else:\n",
    "                    #print(find_cpd_defined_or_not(cond_var[0],cond_var[1]))\n",
    "                    ind_dict2={cond_var[0]:find_cpd_defined_or_not(cond_var[0],cond_var[1])}\n",
    "                    X1_X2 = find_given(_varA=cond_var[0],_cond_var=cond_var[1],\n",
    "                                 _varA_state=X1_state,_cond_var_state=X2_state,\n",
    "                                 cpds_list=cpds_list,marginal_list=marginal_list,ind_dict=ind_dict2)\n",
    "                    #print(X1_X2)\n",
    "                num = np.multiply(X1_given_Y,X2_given_Y)\n",
    "                num = np.multiply(num,Y)\n",
    "                deno = X1_X2\n",
    "                x2_given_x1_x3_cpd[Y_state].append(np.divide(num,deno))\n",
    "    cpd = TabularCPD(random_var,_random_var_states, np.array(x2_given_x1_x3_cpd),[cond_var[1],cond_var[0]], [_state_dict[cond_var[1]],_state_dict[cond_var[0]]])\n",
    "    if(not cpd.is_valid_cpd()):\n",
    "        cpd.normalize(inplace=True)\n",
    "    cpd = TabularCPD(random_var,_random_var_states, np.array(np.round(cpd.get_values(),4)), [cond_var[1],cond_var[0]], [_state_dict[cond_var[1]],_state_dict[cond_var[0]]])\n",
    "    return cpd"
   ]
  },
  {
   "cell_type": "code",
   "execution_count": 14,
   "metadata": {},
   "outputs": [
    {
     "name": "stdout",
     "output_type": "stream",
     "text": [
      "x2 , x1\n",
      "0.15977000000000002\n",
      "x4 , x1\n",
      "0.11943000000000005\n",
      "x6 , x1\n",
      "0.16015500000000005\n",
      "x3 , x2\n",
      "0.21852500000000008\n",
      "x5 , x2\n",
      "0.13246000000000005\n",
      "x2 , x3\n",
      "0.21875800000000004\n",
      "x5 , x3\n",
      "0.11551999999999997\n",
      "x6 , x3\n",
      "0.11324000000000001\n",
      "x1 , x4\n",
      "0.11957000000000005\n",
      "x2 , x4\n",
      "0.11569999999999997\n",
      "x6 , x4\n",
      "0.14347\n",
      "x2 , x5\n",
      "0.12939\n",
      "x3 , x5\n",
      "0.11596500000000003\n",
      "x1 , x6\n",
      "0.16036999999999998\n",
      "x2 , x6\n",
      "0.17531500000000003\n",
      "x3 , x6\n",
      "0.09434000000000006\n",
      "x4 , x6\n",
      "0.14306999999999997\n"
     ]
    }
   ],
   "source": [
    "# x6,x5 tables wrong\n",
    "numTables = 6\n",
    "for table in range(numTables):\n",
    "    _edges = edges_list[table]\n",
    "    _nodes = nodes_list[table]\n",
    "    _cpds = cpds_list[table]\n",
    "    for cpd in _cpds:\n",
    "        varY = list(cpd[\"Variables\"].keys())[0]\n",
    "        condVar = list(cpd[\"Variables\"].values())[0][0]\n",
    "        cpd_val = cpd['Values']\n",
    "        print(varY,\",\",condVar)\n",
    "        lOne = []\n",
    "        for stateY in _nodes[varY]['States'].keys():\n",
    "            for stateX in _nodes[condVar]['States'].keys():\n",
    "                lOne.append(independence_test(condVar,varY,stateX,stateY,cpd_val,marginal_list))\n",
    "        print(np.sum(lOne))"
   ]
  },
  {
   "cell_type": "code",
   "execution_count": null,
   "metadata": {},
   "outputs": [],
   "source": [
    "# Getting compound cpds\n",
    "cond_var = ['x1','x3']\n",
    "random_var = 'x2'\n",
    "x2_given_x1_x3_cpd = v_structure_cpd(cond_var,random_var)\n",
    "x2_given_x1_x3_cpd = np.array(x2_given_x1_x3_cpd)\n",
    "for num in range(np.shape(x2_given_x1_x3_cpd)[1]):\n",
    "    print(np.sum(x2_given_x1_x3_cpd[:,num]))"
   ]
  },
  {
   "cell_type": "code",
   "execution_count": 49,
   "metadata": {},
   "outputs": [
    {
     "ename": "NameError",
     "evalue": "name 'x2_given_x1_x3_cpd' is not defined",
     "output_type": "error",
     "traceback": [
      "\u001b[0;31m---------------------------------------------------------------------------\u001b[0m",
      "\u001b[0;31mNameError\u001b[0m                                 Traceback (most recent call last)",
      "\u001b[0;32m<ipython-input-49-2dd0110a9ea2>\u001b[0m in \u001b[0;36m<module>\u001b[0;34m\u001b[0m\n\u001b[0;32m----> 1\u001b[0;31m \u001b[0mx2_given_x1_x3_cpd\u001b[0m \u001b[0;34m=\u001b[0m \u001b[0mnp\u001b[0m\u001b[0;34m.\u001b[0m\u001b[0marray\u001b[0m\u001b[0;34m(\u001b[0m\u001b[0mx2_given_x1_x3_cpd\u001b[0m\u001b[0;34m)\u001b[0m\u001b[0;34m\u001b[0m\u001b[0;34m\u001b[0m\u001b[0m\n\u001b[0m\u001b[1;32m      2\u001b[0m \u001b[0mx2_given_x1_x3_cpd\u001b[0m\u001b[0;34m\u001b[0m\u001b[0;34m\u001b[0m\u001b[0m\n",
      "\u001b[0;31mNameError\u001b[0m: name 'x2_given_x1_x3_cpd' is not defined"
     ]
    }
   ],
   "source": [
    "x2_given_x1_x3_cpd = np.array(x2_given_x1_x3_cpd)\n",
    "x2_given_x1_x3_cpd"
   ]
  },
  {
   "cell_type": "markdown",
   "metadata": {},
   "source": [
    "# Network 1"
   ]
  },
  {
   "cell_type": "code",
   "execution_count": 80,
   "metadata": {},
   "outputs": [],
   "source": [
    "x2_given_x5_x6= v_structure_cpd(['x5','x6'],'x2')\n",
    "\n",
    "edges_list_nw = [\n",
    "    [('x5','x2'),\n",
    "    ('x3','x5'),\n",
    "    ('x6','x2'),\n",
    "    ('x6','x1'),\n",
    "    ('x6','x4')]\n",
    "]\n",
    "\n",
    "cpds_list_nw = [\n",
    "    [\n",
    "        {\n",
    "        'Values': cpds_list[accio_cpd_table('x3')][1]['Values'],\n",
    "        'Variables':{'x5':['x3']}\n",
    "        },\n",
    "        {\n",
    "        'Values': cpds_list[accio_cpd_table('x6')][0]['Values'],\n",
    "        'Variables':{'x1':['x6']}\n",
    "        },\n",
    "        {\n",
    "        'Values': cpds_list[accio_cpd_table('x6')][3]['Values'],\n",
    "        'Variables':{'x4':['x6']}\n",
    "        },\n",
    "        {\n",
    "        'Values': x2_given_x5_x6.get_values(),\n",
    "        'Variables': {'x2':['x5','x6']}\n",
    "        },\n",
    "        {\n",
    "        'Values': np.array(marginal_list['x3']),\n",
    "        'Variables':{'x3':[]}\n",
    "        },\n",
    "                {\n",
    "        'Values': np.array(marginal_list['x6']),\n",
    "        'Variables':{'x6':[]}\n",
    "        }\n",
    "    ]\n",
    "]\n"
   ]
  },
  {
   "cell_type": "code",
   "execution_count": 102,
   "metadata": {},
   "outputs": [
    {
     "data": {
      "image/png": "[encoded data removed]",
      "text/plain": [
       "<matplotlib.figure.Figure at 0x7ff2b7136908>"
      ]
     },
     "metadata": {},
     "output_type": "display_data"
    }
   ],
   "source": [
    "'''\n",
    "NW1\n",
    "'''\n",
    "table = 0\n",
    "_edges = edges_list_nw[table]\n",
    "_nodes = nodes_list[table]\n",
    "_cpds = cpds_list_nw[table]\n",
    "nw1 = BayesianModel(_edges)\n",
    "\n",
    "for node in _nodes:\n",
    "    #model.node[node] = nodes[node]\n",
    "    nw1.node[node].update(_nodes[node])\n",
    "\n",
    "tabular_cpds = []\n",
    "# V Structure\n",
    "tabular_cpds.append(TabularCPD('x2',accio_state_table('x2',nodes_list),cpds_list_nw[0][3]['Values'],['x6','x5'],[accio_state_table('x6',nodes_list),accio_state_table('x5',nodes_list)]))\n",
    "# Marginals\n",
    "tabular_cpds.append(TabularCPD('x6',accio_state_table('x6',nodes_list),[cpds_list_nw[0][5]['Values']]))\n",
    "tabular_cpds.append(TabularCPD('x3',accio_state_table('x3',nodes_list),[cpds_list_nw[0][4]['Values']]))\n",
    "# Directed Links\n",
    "tabular_cpds.append(TabularCPD('x5',accio_state_table('x5',nodes_list),cpds_list_nw[0][0]['Values'],['x3'],[accio_state_table('x3',nodes_list)]))\n",
    "tabular_cpds.append(TabularCPD('x1',accio_state_table('x1',nodes_list),cpds_list_nw[0][1]['Values'],['x6'],[accio_state_table('x6',nodes_list)]))\n",
    "tabular_cpds.append(TabularCPD('x4',accio_state_table('x4',nodes_list),cpds_list_nw[0][2]['Values'],['x6'],[accio_state_table('x6',nodes_list)]))\n",
    "\n",
    "nw1.add_cpds(*tabular_cpds)\n",
    "\n",
    "#for cpd in nw1.cpds:\n",
    "    #print(cpd)\n",
    "\n",
    "# Requires matplotlib < 2.2\n",
    "import networkx as nx\n",
    "import pylab as plt\n",
    "nx.draw(nw1, with_labels=True)\n",
    "plt.show()"
   ]
  },
  {
   "cell_type": "code",
   "execution_count": 145,
   "metadata": {},
   "outputs": [],
   "source": [
    "inference1 = BayesianModelSampling(nw1)\n",
    "\n",
    "dataNw1 = inference1.forward_sample(size=50000, return_type='dataframe')\n",
    "\n",
    "k2Nw1 = K2Score(dataNw1)"
   ]
  },
  {
   "cell_type": "code",
   "execution_count": 146,
   "metadata": {},
   "outputs": [
    {
     "data": {
      "text/plain": [
       "-314166.6447737128"
      ]
     },
     "execution_count": 146,
     "metadata": {},
     "output_type": "execute_result"
    }
   ],
   "source": [
    "k2Nw1.score(nw1)"
   ]
  },
  {
   "cell_type": "markdown",
   "metadata": {},
   "source": [
    "# Network 2"
   ]
  },
  {
   "cell_type": "code",
   "execution_count": 105,
   "metadata": {},
   "outputs": [
    {
     "data": {
      "text/plain": [
       "array([[0.   , 0.218, 0.107, 0.206, 0.143],\n",
       "       [1.   , 0.656, 0.714, 0.635, 0.643],\n",
       "       [0.   , 0.125, 0.179, 0.159, 0.214]])"
      ]
     },
     "execution_count": 105,
     "metadata": {},
     "output_type": "execute_result"
    }
   ],
   "source": [
    "cpds_list[accio_cpd_table('x6')][2]['Values']"
   ]
  },
  {
   "cell_type": "code",
   "execution_count": 142,
   "metadata": {},
   "outputs": [
    {
     "data": {
      "image/png": "[encoded data removed]",
      "text/plain": [
       "<matplotlib.figure.Figure at 0x7ff2b6fa7400>"
      ]
     },
     "metadata": {},
     "output_type": "display_data"
    }
   ],
   "source": [
    "x2_given_x5_x6= v_structure_cpd(['x5','x6'],'x2')\n",
    "\n",
    "edges_list_nw = [\n",
    "    [('x5','x2'),\n",
    "     ('x6','x2'),\n",
    "     ('x6','x3'),\n",
    "     ('x6','x4'),\n",
    "     ('x6','x1'),\n",
    "    ]\n",
    "]\n",
    "\n",
    "cpds_list_nw = [\n",
    "    [\n",
    "        {\n",
    "        'Values': cpds_list[accio_cpd_table('x6')][2]['Values'],\n",
    "        'Variables':{'x3':['x6']}\n",
    "        },\n",
    "        {\n",
    "        'Values': cpds_list[accio_cpd_table('x6')][0]['Values'],\n",
    "        'Variables':{'x1':['x6']}\n",
    "        },\n",
    "        {\n",
    "        'Values': cpds_list[accio_cpd_table('x6')][3]['Values'],\n",
    "        'Variables':{'x4':['x6']}\n",
    "        },\n",
    "        {\n",
    "        'Values': x2_given_x5_x6.get_values(),\n",
    "        'Variables': {'x2':['x5','x6']}\n",
    "        },\n",
    "        {\n",
    "        'Values': np.array(marginal_list['x5']),\n",
    "        'Variables':{'x5':[]}\n",
    "        },\n",
    "                {\n",
    "        'Values': np.array(marginal_list['x6']),\n",
    "        'Variables':{'x6':[]}\n",
    "        }\n",
    "    ]\n",
    "]\n",
    "\n",
    "\n",
    "'''\n",
    "NW1\n",
    "'''\n",
    "table = 0\n",
    "_edges = edges_list_nw[table]\n",
    "_nodes = nodes_list[table]\n",
    "_cpds = cpds_list_nw[table]\n",
    "nw2 = BayesianModel(_edges)\n",
    "\n",
    "for node in _nodes:\n",
    "    #model.node[node] = nodes[node]\n",
    "    nw2.node[node].update(_nodes[node])\n",
    "\n",
    "tabular_cpds = []\n",
    "# V Structure\n",
    "tabular_cpds.append(TabularCPD('x2',accio_state_table('x2',nodes_list),cpds_list_nw[0][3]['Values'],['x6','x5'],[accio_state_table('x6',nodes_list),accio_state_table('x5',nodes_list)]))\n",
    "# Marginals\n",
    "tabular_cpds.append(TabularCPD('x6',accio_state_table('x6',nodes_list),[cpds_list_nw[0][5]['Values']]))\n",
    "tabular_cpds.append(TabularCPD('x5',accio_state_table('x5',nodes_list),[cpds_list_nw[0][4]['Values']]))\n",
    "# Directed Links\n",
    "tabular_cpds.append(TabularCPD('x3',accio_state_table('x3',nodes_list),cpds_list_nw[0][0]['Values'],['x6'],[accio_state_table('x6',nodes_list)]))\n",
    "tabular_cpds.append(TabularCPD('x1',accio_state_table('x1',nodes_list),cpds_list_nw[0][1]['Values'],['x6'],[accio_state_table('x6',nodes_list)]))\n",
    "tabular_cpds.append(TabularCPD('x4',accio_state_table('x4',nodes_list),cpds_list_nw[0][2]['Values'],['x6'],[accio_state_table('x6',nodes_list)]))\n",
    "\n",
    "nw2.add_cpds(*tabular_cpds)\n",
    "\n",
    "#for cpd in nw1.cpds:\n",
    "    #print(cpd)\n",
    "\n",
    "# Requires matplotlib < 2.2\n",
    "import networkx as nx\n",
    "import pylab as plt\n",
    "nx.draw(nw1, with_labels=True)\n",
    "plt.show()"
   ]
  },
  {
   "cell_type": "code",
   "execution_count": 143,
   "metadata": {},
   "outputs": [],
   "source": [
    "inference2 = BayesianModelSampling(nw2)\n",
    "\n",
    "dataNw2 = inference2.forward_sample(size=50000, return_type='dataframe')\n",
    "\n",
    "k2Nw2 = K2Score(dataNw2)"
   ]
  },
  {
   "cell_type": "code",
   "execution_count": 148,
   "metadata": {},
   "outputs": [
    {
     "data": {
      "text/plain": [
       "-314200.3436394362"
      ]
     },
     "execution_count": 148,
     "metadata": {},
     "output_type": "execute_result"
    }
   ],
   "source": [
    "k2Nw2.score(nw2)"
   ]
  },
  {
   "cell_type": "code",
   "execution_count": 149,
   "metadata": {},
   "outputs": [
    {
     "data": {
      "text/plain": [
       "-314166.6447737128"
      ]
     },
     "execution_count": 149,
     "metadata": {},
     "output_type": "execute_result"
    }
   ],
   "source": [
    "k2Nw1.score(nw1)"
   ]
  },
  {
   "cell_type": "code",
   "execution_count": null,
   "metadata": {},
   "outputs": [],
   "source": []
  }
 ],
 "metadata": {
  "kernelspec": {
   "display_name": "Python 3",
   "language": "python",
   "name": "python3"
  },
  "language_info": {
   "codemirror_mode": {
    "name": "ipython",
    "version": 3
   },
   "file_extension": ".py",
   "mimetype": "text/x-python",
   "name": "python",
   "nbconvert_exporter": "python",
   "pygments_lexer": "ipython3",
   "version": "3.7.2"
  }
 },
 "nbformat": 4,
 "nbformat_minor": 2
}
